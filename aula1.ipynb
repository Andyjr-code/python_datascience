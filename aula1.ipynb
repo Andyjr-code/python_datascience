{
 "cells": [
  {
   "cell_type": "markdown",
   "id": "96ea58a9",
   "metadata": {},
   "source": [
    "# https://github.com/romulodf-cesar/python-datascience/blob/master/datasets/tempo_salarios.csv"
   ]
  },
  {
   "cell_type": "markdown",
   "id": "f34283cd",
   "metadata": {},
   "source": [
    "# Python Data Science\n",
    "\n",
    "- Instalação do Pandas\n",
    "- Problema\n",
    "- Entendimento do Problema\n",
    "- Carregamento dos Dados\n",
    "- Entendimento do DataSet\n",
    "- Análise Descritiva (Estatística)\n",
    "    - População\n",
    "    - Amostra\n",
    "    - Definição das variáveis\n",
    "    - Medidas (Média, Mediana, Moda, Desvio  Padrão)"
   ]
  },
  {
   "cell_type": "markdown",
   "id": "0877af51",
   "metadata": {},
   "source": [
    "# Vetor e uma Matriz"
   ]
  },
  {
   "cell_type": "markdown",
   "id": "0b1bf658",
   "metadata": {},
   "source": [
    "- Ambos são estruturas de dados\n",
    "- Programador Dev (Vetor) x Cientista de Dados Python (Series)\n",
    "- Matriz Unidimensional (vetor)\n",
    "- Uma dimensão 1D \n",
    "- Na matemática: matriz linha ou matriz coluna\n",
    "- Series: indíces "
   ]
  },
  {
   "cell_type": "markdown",
   "id": "fe2c2c4e",
   "metadata": {},
   "source": [
    "### Matriz\n",
    "\n",
    "- É uma estrutura de dados\n",
    "- Programador (Matriz/Coleção) x Cientista de Dados Python (Dataframe)\n",
    "- Matriz Bidimensional\n",
    "- 2D - duas dimensões\n",
    "- Dataframe --> df "
   ]
  },
  {
   "cell_type": "markdown",
   "id": "549b771e",
   "metadata": {},
   "source": [
    "# Coluna - j\n",
    "# Linha - i"
   ]
  },
  {
   "cell_type": "markdown",
   "id": "a4309a80",
   "metadata": {},
   "source": [
    "# Em Resumo:\n",
    "\n",
    "### Series x DataFrame\n",
    "\n",
    "- Series - 1D\n",
    "- Dataframe - 2D"
   ]
  },
  {
   "cell_type": "code",
   "execution_count": 13,
   "id": "8c8ef8b9",
   "metadata": {},
   "outputs": [],
   "source": [
    "! pip install pandas"
   ]
  },
  {
   "cell_type": "code",
   "execution_count": 14,
   "id": "5ae51e99",
   "metadata": {},
   "outputs": [
    {
     "name": "stdout",
     "output_type": "stream",
     "text": [
      "Criando uma instancia de Séries a partir se uma tupla\n",
      "0    1980\n",
      "1    1984\n",
      "2    1988\n",
      "3    1992\n",
      "dtype: int64\n"
     ]
    }
   ],
   "source": [
    "import pandas as pd\n",
    "\n",
    "### Série e Dataframes\n",
    "print(\"Criando uma instancia de Séries a partir se uma tupla\")\n",
    "segundos_jogos = pd.Series((1980, 1984, 1988, 1992))\n",
    "print(segundos_jogos)"
   ]
  },
  {
   "cell_type": "code",
   "execution_count": null,
   "id": "0f66fb11",
   "metadata": {},
   "outputs": [],
   "source": []
  },
  {
   "cell_type": "code",
   "execution_count": 25,
   "id": "4fef2059",
   "metadata": {},
   "outputs": [],
   "source": [
    "df_total = pd.read_csv('datasets/tempo_salarios.csv')"
   ]
  },
  {
   "cell_type": "code",
   "execution_count": 27,
   "id": "a2fdea82",
   "metadata": {},
   "outputs": [
    {
     "data": {
      "text/html": [
       "<div>\n",
       "<style scoped>\n",
       "    .dataframe tbody tr th:only-of-type {\n",
       "        vertical-align: middle;\n",
       "    }\n",
       "\n",
       "    .dataframe tbody tr th {\n",
       "        vertical-align: top;\n",
       "    }\n",
       "\n",
       "    .dataframe thead th {\n",
       "        text-align: right;\n",
       "    }\n",
       "</style>\n",
       "<table border=\"1\" class=\"dataframe\">\n",
       "  <thead>\n",
       "    <tr style=\"text-align: right;\">\n",
       "      <th></th>\n",
       "      <th>AnosdeExperiencia</th>\n",
       "      <th>Salario</th>\n",
       "    </tr>\n",
       "  </thead>\n",
       "  <tbody>\n",
       "    <tr>\n",
       "      <th>0</th>\n",
       "      <td>1.1</td>\n",
       "      <td>39343.0</td>\n",
       "    </tr>\n",
       "    <tr>\n",
       "      <th>1</th>\n",
       "      <td>1.3</td>\n",
       "      <td>46205.0</td>\n",
       "    </tr>\n",
       "    <tr>\n",
       "      <th>2</th>\n",
       "      <td>1.5</td>\n",
       "      <td>37731.0</td>\n",
       "    </tr>\n",
       "    <tr>\n",
       "      <th>3</th>\n",
       "      <td>2.0</td>\n",
       "      <td>43525.0</td>\n",
       "    </tr>\n",
       "    <tr>\n",
       "      <th>4</th>\n",
       "      <td>2.2</td>\n",
       "      <td>39891.0</td>\n",
       "    </tr>\n",
       "  </tbody>\n",
       "</table>\n",
       "</div>"
      ],
      "text/plain": [
       "   AnosdeExperiencia  Salario\n",
       "0                1.1  39343.0\n",
       "1                1.3  46205.0\n",
       "2                1.5  37731.0\n",
       "3                2.0  43525.0\n",
       "4                2.2  39891.0"
      ]
     },
     "execution_count": 27,
     "metadata": {},
     "output_type": "execute_result"
    }
   ],
   "source": [
    "df_total.head()"
   ]
  },
  {
   "cell_type": "code",
   "execution_count": 28,
   "id": "d062cbfa",
   "metadata": {},
   "outputs": [
    {
     "data": {
      "text/html": [
       "<div>\n",
       "<style scoped>\n",
       "    .dataframe tbody tr th:only-of-type {\n",
       "        vertical-align: middle;\n",
       "    }\n",
       "\n",
       "    .dataframe tbody tr th {\n",
       "        vertical-align: top;\n",
       "    }\n",
       "\n",
       "    .dataframe thead th {\n",
       "        text-align: right;\n",
       "    }\n",
       "</style>\n",
       "<table border=\"1\" class=\"dataframe\">\n",
       "  <thead>\n",
       "    <tr style=\"text-align: right;\">\n",
       "      <th></th>\n",
       "      <th>AnosdeExperiencia</th>\n",
       "      <th>Salario</th>\n",
       "    </tr>\n",
       "  </thead>\n",
       "  <tbody>\n",
       "    <tr>\n",
       "      <th>25</th>\n",
       "      <td>9.0</td>\n",
       "      <td>105582.0</td>\n",
       "    </tr>\n",
       "    <tr>\n",
       "      <th>26</th>\n",
       "      <td>9.5</td>\n",
       "      <td>116969.0</td>\n",
       "    </tr>\n",
       "    <tr>\n",
       "      <th>27</th>\n",
       "      <td>9.6</td>\n",
       "      <td>112635.0</td>\n",
       "    </tr>\n",
       "    <tr>\n",
       "      <th>28</th>\n",
       "      <td>10.3</td>\n",
       "      <td>122391.0</td>\n",
       "    </tr>\n",
       "    <tr>\n",
       "      <th>29</th>\n",
       "      <td>10.5</td>\n",
       "      <td>121872.0</td>\n",
       "    </tr>\n",
       "  </tbody>\n",
       "</table>\n",
       "</div>"
      ],
      "text/plain": [
       "    AnosdeExperiencia   Salario\n",
       "25                9.0  105582.0\n",
       "26                9.5  116969.0\n",
       "27                9.6  112635.0\n",
       "28               10.3  122391.0\n",
       "29               10.5  121872.0"
      ]
     },
     "execution_count": 28,
     "metadata": {},
     "output_type": "execute_result"
    }
   ],
   "source": [
    "df_total.tail()"
   ]
  },
  {
   "cell_type": "code",
   "execution_count": 18,
   "id": "e8a9d242",
   "metadata": {},
   "outputs": [],
   "source": [
    "# Correção\n",
    "jogos_dict = {\n",
    "    \"oxo\": 1952,\n",
    "    \"computer_space\": 1971,\n",
    "    \"magnavox_odyssey\": 1972,\n",
    "    \"pong\": 1972,\n",
    "    \"pac man\": 1980,\n",
    "}"
   ]
  },
  {
   "cell_type": "code",
   "execution_count": 19,
   "id": "48771f6b",
   "metadata": {},
   "outputs": [],
   "source": [
    "jogos_series = pd.Series(jogos_dict)\n"
   ]
  },
  {
   "cell_type": "code",
   "execution_count": 21,
   "id": "98bdd3e9",
   "metadata": {},
   "outputs": [
    {
     "name": "stdout",
     "output_type": "stream",
     "text": [
      "oxo                 1952\n",
      "computer_space      1971\n",
      "magnavox_odyssey    1972\n",
      "pong                1972\n",
      "pac man             1980\n",
      "dtype: int64\n"
     ]
    }
   ],
   "source": [
    "print(jogos_series)"
   ]
  },
  {
   "cell_type": "code",
   "execution_count": 23,
   "id": "683bb127",
   "metadata": {},
   "outputs": [
    {
     "name": "stdout",
     "output_type": "stream",
     "text": [
      "1980\n"
     ]
    }
   ],
   "source": [
    "jogos_series['pac man']\n",
    "print(jogos_series['pac man'])"
   ]
  },
  {
   "cell_type": "code",
   "execution_count": 26,
   "id": "4ab95850",
   "metadata": {},
   "outputs": [
    {
     "name": "stdout",
     "output_type": "stream",
     "text": [
      "<class 'pandas.core.frame.DataFrame'>\n",
      "RangeIndex: 30 entries, 0 to 29\n",
      "Data columns (total 2 columns):\n",
      " #   Column             Non-Null Count  Dtype  \n",
      "---  ------             --------------  -----  \n",
      " 0   AnosdeExperiencia  30 non-null     float64\n",
      " 1   Salario            30 non-null     float64\n",
      "dtypes: float64(2)\n",
      "memory usage: 612.0 bytes\n"
     ]
    }
   ],
   "source": [
    "df_total.info()"
   ]
  },
  {
   "attachments": {
    "image.png": {
     "image/png": "[encoded data removed]"
    }
   },
   "cell_type": "markdown",
   "id": "ed2dbeec",
   "metadata": {},
   "source": [
    "![image.png](attachment:image.png)"
   ]
  },
  {
   "cell_type": "markdown",
   "id": "861f3f4b",
   "metadata": {},
   "source": [
    "# dontpad: tiasenac"
   ]
  },
  {
   "cell_type": "markdown",
   "id": "1f2b852d",
   "metadata": {},
   "source": [
    "# Exercício\n",
    "* Copie e cole a imagem das variáveis e seus tipos\n",
    "* Considere nosso dataset e informe para a turma quais os tipos de variáveis"
   ]
  },
  {
   "cell_type": "markdown",
   "id": "feb2e17b",
   "metadata": {},
   "source": [
    "# Quantitativos\n",
    "* Discretos: resultam de um conjunto finito ou enumerável de valores possíveis (contagens)\n",
    "* Contínuos: resultam em um número infinito de valores possíveis (mensurações)"
   ]
  },
  {
   "cell_type": "markdown",
   "id": "e39f79fe",
   "metadata": {},
   "source": [
    "# Estatísticas Descritiva\n",
    "* Medidas de Tendência Central"
   ]
  },
  {
   "cell_type": "code",
   "execution_count": 29,
   "id": "46ee50d1",
   "metadata": {},
   "outputs": [
    {
     "data": {
      "text/html": [
       "<div>\n",
       "<style scoped>\n",
       "    .dataframe tbody tr th:only-of-type {\n",
       "        vertical-align: middle;\n",
       "    }\n",
       "\n",
       "    .dataframe tbody tr th {\n",
       "        vertical-align: top;\n",
       "    }\n",
       "\n",
       "    .dataframe thead th {\n",
       "        text-align: right;\n",
       "    }\n",
       "</style>\n",
       "<table border=\"1\" class=\"dataframe\">\n",
       "  <thead>\n",
       "    <tr style=\"text-align: right;\">\n",
       "      <th></th>\n",
       "      <th>AnosdeExperiencia</th>\n",
       "      <th>Salario</th>\n",
       "    </tr>\n",
       "  </thead>\n",
       "  <tbody>\n",
       "    <tr>\n",
       "      <th>count</th>\n",
       "      <td>30.000000</td>\n",
       "      <td>30.000000</td>\n",
       "    </tr>\n",
       "    <tr>\n",
       "      <th>mean</th>\n",
       "      <td>5.313333</td>\n",
       "      <td>76003.000000</td>\n",
       "    </tr>\n",
       "    <tr>\n",
       "      <th>std</th>\n",
       "      <td>2.837888</td>\n",
       "      <td>27414.429785</td>\n",
       "    </tr>\n",
       "    <tr>\n",
       "      <th>min</th>\n",
       "      <td>1.100000</td>\n",
       "      <td>37731.000000</td>\n",
       "    </tr>\n",
       "    <tr>\n",
       "      <th>25%</th>\n",
       "      <td>3.200000</td>\n",
       "      <td>56720.750000</td>\n",
       "    </tr>\n",
       "    <tr>\n",
       "      <th>50%</th>\n",
       "      <td>4.700000</td>\n",
       "      <td>65237.000000</td>\n",
       "    </tr>\n",
       "    <tr>\n",
       "      <th>75%</th>\n",
       "      <td>7.700000</td>\n",
       "      <td>100544.750000</td>\n",
       "    </tr>\n",
       "    <tr>\n",
       "      <th>max</th>\n",
       "      <td>10.500000</td>\n",
       "      <td>122391.000000</td>\n",
       "    </tr>\n",
       "  </tbody>\n",
       "</table>\n",
       "</div>"
      ],
      "text/plain": [
       "       AnosdeExperiencia        Salario\n",
       "count          30.000000      30.000000\n",
       "mean            5.313333   76003.000000\n",
       "std             2.837888   27414.429785\n",
       "min             1.100000   37731.000000\n",
       "25%             3.200000   56720.750000\n",
       "50%             4.700000   65237.000000\n",
       "75%             7.700000  100544.750000\n",
       "max            10.500000  122391.000000"
      ]
     },
     "execution_count": 29,
     "metadata": {},
     "output_type": "execute_result"
    }
   ],
   "source": [
    "df_total.describe()"
   ]
  },
  {
   "cell_type": "code",
   "execution_count": 45,
   "id": "5bd8a3c4",
   "metadata": {},
   "outputs": [],
   "source": [
    "df_faltando = pd.read_csv('datasets/tempo_salarios_incompleto.csv')"
   ]
  },
  {
   "cell_type": "code",
   "execution_count": 46,
   "id": "b7d5d7d8",
   "metadata": {},
   "outputs": [
    {
     "data": {
      "text/html": [
       "<div>\n",
       "<style scoped>\n",
       "    .dataframe tbody tr th:only-of-type {\n",
       "        vertical-align: middle;\n",
       "    }\n",
       "\n",
       "    .dataframe tbody tr th {\n",
       "        vertical-align: top;\n",
       "    }\n",
       "\n",
       "    .dataframe thead th {\n",
       "        text-align: right;\n",
       "    }\n",
       "</style>\n",
       "<table border=\"1\" class=\"dataframe\">\n",
       "  <thead>\n",
       "    <tr style=\"text-align: right;\">\n",
       "      <th></th>\n",
       "      <th>AnosdeExperiencia</th>\n",
       "      <th>Salario</th>\n",
       "    </tr>\n",
       "  </thead>\n",
       "  <tbody>\n",
       "    <tr>\n",
       "      <th>count</th>\n",
       "      <td>30.000000</td>\n",
       "      <td>23.000000</td>\n",
       "    </tr>\n",
       "    <tr>\n",
       "      <th>mean</th>\n",
       "      <td>5.313333</td>\n",
       "      <td>71083.652174</td>\n",
       "    </tr>\n",
       "    <tr>\n",
       "      <th>std</th>\n",
       "      <td>2.837888</td>\n",
       "      <td>25870.546109</td>\n",
       "    </tr>\n",
       "    <tr>\n",
       "      <th>min</th>\n",
       "      <td>1.100000</td>\n",
       "      <td>37731.000000</td>\n",
       "    </tr>\n",
       "    <tr>\n",
       "      <th>25%</th>\n",
       "      <td>3.200000</td>\n",
       "      <td>56218.000000</td>\n",
       "    </tr>\n",
       "    <tr>\n",
       "      <th>50%</th>\n",
       "      <td>4.700000</td>\n",
       "      <td>61111.000000</td>\n",
       "    </tr>\n",
       "    <tr>\n",
       "      <th>75%</th>\n",
       "      <td>7.700000</td>\n",
       "      <td>90680.500000</td>\n",
       "    </tr>\n",
       "    <tr>\n",
       "      <th>max</th>\n",
       "      <td>10.500000</td>\n",
       "      <td>121872.000000</td>\n",
       "    </tr>\n",
       "  </tbody>\n",
       "</table>\n",
       "</div>"
      ],
      "text/plain": [
       "       AnosdeExperiencia        Salario\n",
       "count          30.000000      23.000000\n",
       "mean            5.313333   71083.652174\n",
       "std             2.837888   25870.546109\n",
       "min             1.100000   37731.000000\n",
       "25%             3.200000   56218.000000\n",
       "50%             4.700000   61111.000000\n",
       "75%             7.700000   90680.500000\n",
       "max            10.500000  121872.000000"
      ]
     },
     "execution_count": 46,
     "metadata": {},
     "output_type": "execute_result"
    }
   ],
   "source": [
    "df_faltando.describe()"
   ]
  },
  {
   "cell_type": "code",
   "execution_count": null,
   "id": "2d294d3d",
   "metadata": {},
   "outputs": [
    {
     "ename": "AttributeError",
     "evalue": "'DataFrame' object has no attribute 'salario'",
     "output_type": "error",
     "traceback": [
      "\u001b[31m---------------------------------------------------------------------------\u001b[39m",
      "\u001b[31mAttributeError\u001b[39m                            Traceback (most recent call last)",
      "\u001b[32m~\\AppData\\Local\\Temp\\ipykernel_18596\\3995325323.py\u001b[39m in \u001b[36m?\u001b[39m\u001b[34m()\u001b[39m\n\u001b[32m----> \u001b[39m\u001b[32m1\u001b[39m df_total.salario.mean()\n",
      "\u001b[32mc:\\Users\\Andy54053236\\OneDrive - SENAC DF\\Área de Trabalho\\python_datascience\\python_datascience\\venv\\Lib\\site-packages\\pandas\\core\\generic.py\u001b[39m in \u001b[36m?\u001b[39m\u001b[34m(self, name)\u001b[39m\n\u001b[32m   6317\u001b[39m             \u001b[38;5;28;01mand\u001b[39;00m name \u001b[38;5;28;01mnot\u001b[39;00m \u001b[38;5;28;01min\u001b[39;00m self._accessors\n\u001b[32m   6318\u001b[39m             \u001b[38;5;28;01mand\u001b[39;00m self._info_axis._can_hold_identifiers_and_holds_name(name)\n\u001b[32m   6319\u001b[39m         ):\n\u001b[32m   6320\u001b[39m             \u001b[38;5;28;01mreturn\u001b[39;00m self[name]\n\u001b[32m-> \u001b[39m\u001b[32m6321\u001b[39m         \u001b[38;5;28;01mreturn\u001b[39;00m object.__getattribute__(self, name)\n",
      "\u001b[31mAttributeError\u001b[39m: 'DataFrame' object has no attribute 'salario'"
     ]
    }
   ],
   "source": []
  }
 ],
 "metadata": {
  "kernelspec": {
   "display_name": "venv",
   "language": "python",
   "name": "python3"
  },
  "language_info": {
   "codemirror_mode": {
    "name": "ipython",
    "version": 3
   },
   "file_extension": ".py",
   "mimetype": "text/x-python",
   "name": "python",
   "nbconvert_exporter": "python",
   "pygments_lexer": "ipython3",
   "version": "3.13.7"
  }
 },
 "nbformat": 4,
 "nbformat_minor": 5
}
