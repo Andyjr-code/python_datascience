{
 "cells": [
  {
   "cell_type": "markdown",
   "id": "96ea58a9",
   "metadata": {},
   "source": [
    "# https://github.com/romulodf-cesar/python-datascience/blob/master/datasets/tempo_salarios.csv"
   ]
  },
  {
   "cell_type": "markdown",
   "id": "f34283cd",
   "metadata": {},
   "source": [
    "# Python Data Science\n",
    "\n",
    "- Instalação do Pandas\n",
    "- Problema\n",
    "- Entendimento do Problema\n",
    "- Carregamento dos Dados\n",
    "- Entendimento do DataSet\n",
    "- Análise Descritiva (Estatística)\n",
    "    - População\n",
    "    - Amostra\n",
    "    - Definição das variáveis\n",
    "    - Medidas (Média, Mediana, Moda, Desvio  Padrão)"
   ]
  },
  {
   "cell_type": "markdown",
   "id": "0877af51",
   "metadata": {},
   "source": [
    "# Vetor e uma Matriz"
   ]
  },
  {
   "cell_type": "markdown",
   "id": "0b1bf658",
   "metadata": {},
   "source": [
    "- Ambos são estruturas de dados\n",
    "- Programador Dev (Vetor) x Cientista de Dados Python (Series)\n",
    "- Matriz Unidimensional (vetor)\n",
    "- Uma dimensão 1D \n",
    "- Na matemática: matriz linha ou matriz coluna\n",
    "- Series: indíces "
   ]
  },
  {
   "cell_type": "markdown",
   "id": "fe2c2c4e",
   "metadata": {},
   "source": [
    "### Matriz\n",
    "\n",
    "- É uma estrutura de dados\n",
    "- Programador (Matriz/Coleção) x Cientista de Dados Python (Dataframe)\n",
    "- Matriz Bidimensional\n",
    "- 2D - duas dimensões\n",
    "- Dataframe --> df "
   ]
  },
  {
   "cell_type": "markdown",
   "id": "549b771e",
   "metadata": {},
   "source": [
    "# Coluna - j\n",
    "# Linha - i"
   ]
  },
  {
   "cell_type": "markdown",
   "id": "a4309a80",
   "metadata": {},
   "source": [
    "# Em Resumo:\n",
    "\n",
    "### Series x DataFrame\n",
    "\n",
    "- Series - 1D\n",
    "- Dataframe - 2D"
   ]
  },
  {
   "cell_type": "code",
   "execution_count": 1,
   "id": "8c8ef8b9",
   "metadata": {},
   "outputs": [],
   "source": [
    "! pip install pandas"
   ]
  },
  {
   "cell_type": "code",
   "execution_count": 2,
   "id": "5ae51e99",
   "metadata": {},
   "outputs": [
    {
     "name": "stdout",
     "output_type": "stream",
     "text": [
      "Criando uma instancia de Séries a partir se uma tupla\n",
      "0    1980\n",
      "1    1984\n",
      "2    1988\n",
      "3    1992\n",
      "dtype: int64\n"
     ]
    }
   ],
   "source": [
    "import pandas as pd\n",
    "\n",
    "### Série e Dataframes\n",
    "print(\"Criando uma instancia de Séries a partir se uma tupla\")\n",
    "segundos_jogos = pd.Series((1980, 1984, 1988, 1992))\n",
    "print(segundos_jogos)"
   ]
  },
  {
   "cell_type": "code",
   "execution_count": null,
   "id": "0f66fb11",
   "metadata": {},
   "outputs": [],
   "source": []
  },
  {
   "cell_type": "code",
   "execution_count": 3,
   "id": "4fef2059",
   "metadata": {},
   "outputs": [],
   "source": [
    "df = pd.read_csv('datasets/tempo_salarios.csv')"
   ]
  },
  {
   "cell_type": "code",
   "execution_count": 4,
   "id": "a2fdea82",
   "metadata": {},
   "outputs": [
    {
     "data": {
      "text/html": [
       "<div>\n",
       "<style scoped>\n",
       "    .dataframe tbody tr th:only-of-type {\n",
       "        vertical-align: middle;\n",
       "    }\n",
       "\n",
       "    .dataframe tbody tr th {\n",
       "        vertical-align: top;\n",
       "    }\n",
       "\n",
       "    .dataframe thead th {\n",
       "        text-align: right;\n",
       "    }\n",
       "</style>\n",
       "<table border=\"1\" class=\"dataframe\">\n",
       "  <thead>\n",
       "    <tr style=\"text-align: right;\">\n",
       "      <th></th>\n",
       "      <th>AnosdeExperiencia</th>\n",
       "      <th>Salario</th>\n",
       "    </tr>\n",
       "  </thead>\n",
       "  <tbody>\n",
       "    <tr>\n",
       "      <th>0</th>\n",
       "      <td>1.1</td>\n",
       "      <td>39343.0</td>\n",
       "    </tr>\n",
       "    <tr>\n",
       "      <th>1</th>\n",
       "      <td>1.3</td>\n",
       "      <td>46205.0</td>\n",
       "    </tr>\n",
       "    <tr>\n",
       "      <th>2</th>\n",
       "      <td>1.5</td>\n",
       "      <td>37731.0</td>\n",
       "    </tr>\n",
       "    <tr>\n",
       "      <th>3</th>\n",
       "      <td>2.0</td>\n",
       "      <td>43525.0</td>\n",
       "    </tr>\n",
       "    <tr>\n",
       "      <th>4</th>\n",
       "      <td>2.2</td>\n",
       "      <td>39891.0</td>\n",
       "    </tr>\n",
       "  </tbody>\n",
       "</table>\n",
       "</div>"
      ],
      "text/plain": [
       "   AnosdeExperiencia  Salario\n",
       "0                1.1  39343.0\n",
       "1                1.3  46205.0\n",
       "2                1.5  37731.0\n",
       "3                2.0  43525.0\n",
       "4                2.2  39891.0"
      ]
     },
     "execution_count": 4,
     "metadata": {},
     "output_type": "execute_result"
    }
   ],
   "source": [
    "df.head()"
   ]
  },
  {
   "cell_type": "code",
   "execution_count": 5,
   "id": "d062cbfa",
   "metadata": {},
   "outputs": [
    {
     "data": {
      "text/html": [
       "<div>\n",
       "<style scoped>\n",
       "    .dataframe tbody tr th:only-of-type {\n",
       "        vertical-align: middle;\n",
       "    }\n",
       "\n",
       "    .dataframe tbody tr th {\n",
       "        vertical-align: top;\n",
       "    }\n",
       "\n",
       "    .dataframe thead th {\n",
       "        text-align: right;\n",
       "    }\n",
       "</style>\n",
       "<table border=\"1\" class=\"dataframe\">\n",
       "  <thead>\n",
       "    <tr style=\"text-align: right;\">\n",
       "      <th></th>\n",
       "      <th>AnosdeExperiencia</th>\n",
       "      <th>Salario</th>\n",
       "    </tr>\n",
       "  </thead>\n",
       "  <tbody>\n",
       "    <tr>\n",
       "      <th>25</th>\n",
       "      <td>9.0</td>\n",
       "      <td>105582.0</td>\n",
       "    </tr>\n",
       "    <tr>\n",
       "      <th>26</th>\n",
       "      <td>9.5</td>\n",
       "      <td>116969.0</td>\n",
       "    </tr>\n",
       "    <tr>\n",
       "      <th>27</th>\n",
       "      <td>9.6</td>\n",
       "      <td>112635.0</td>\n",
       "    </tr>\n",
       "    <tr>\n",
       "      <th>28</th>\n",
       "      <td>10.3</td>\n",
       "      <td>122391.0</td>\n",
       "    </tr>\n",
       "    <tr>\n",
       "      <th>29</th>\n",
       "      <td>10.5</td>\n",
       "      <td>121872.0</td>\n",
       "    </tr>\n",
       "  </tbody>\n",
       "</table>\n",
       "</div>"
      ],
      "text/plain": [
       "    AnosdeExperiencia   Salario\n",
       "25                9.0  105582.0\n",
       "26                9.5  116969.0\n",
       "27                9.6  112635.0\n",
       "28               10.3  122391.0\n",
       "29               10.5  121872.0"
      ]
     },
     "execution_count": 5,
     "metadata": {},
     "output_type": "execute_result"
    }
   ],
   "source": [
    "df.tail()"
   ]
  },
  {
   "cell_type": "code",
   "execution_count": 9,
   "id": "e8a9d242",
   "metadata": {},
   "outputs": [],
   "source": [
    "# Correção\n",
    "jogos_dict = {\n",
    "    \"oxo\": 1952,\n",
    "    \"computer_space\": 1971,\n",
    "    \"magnavox_odyssey\": 1972,\n",
    "    \"pong\": 1972,\n",
    "    \"pac man\": 1980,\n",
    "}"
   ]
  },
  {
   "cell_type": "code",
   "execution_count": 10,
   "id": "48771f6b",
   "metadata": {},
   "outputs": [],
   "source": [
    "jogos_series = pd.Series(jogos_dict)\n"
   ]
  },
  {
   "cell_type": "code",
   "execution_count": 11,
   "id": "98bdd3e9",
   "metadata": {},
   "outputs": [
    {
     "name": "stdout",
     "output_type": "stream",
     "text": [
      "oxo                 1952\n",
      "computer_space      1971\n",
      "magnavox_odyssey    1972\n",
      "pong                1972\n",
      "pac man             1980\n",
      "dtype: int64\n"
     ]
    }
   ],
   "source": [
    "print(jogos_series)"
   ]
  },
  {
   "cell_type": "code",
   "execution_count": 12,
   "id": "683bb127",
   "metadata": {},
   "outputs": [
    {
     "data": {
      "text/plain": [
       "np.int64(1980)"
      ]
     },
     "execution_count": 12,
     "metadata": {},
     "output_type": "execute_result"
    }
   ],
   "source": [
    "jogos_series['pac man']"
   ]
  }
 ],
 "metadata": {
  "kernelspec": {
   "display_name": "venv",
   "language": "python",
   "name": "python3"
  },
  "language_info": {
   "codemirror_mode": {
    "name": "ipython",
    "version": 3
   },
   "file_extension": ".py",
   "mimetype": "text/x-python",
   "name": "python",
   "nbconvert_exporter": "python",
   "pygments_lexer": "ipython3",
   "version": "3.13.7"
  }
 },
 "nbformat": 4,
 "nbformat_minor": 5
}
