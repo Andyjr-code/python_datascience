{
 "cells": [
  {
   "cell_type": "markdown",
   "id": "4191da66",
   "metadata": {},
   "source": [
    "# Exercício - Estatíca Descritiva (medida de tendência central)"
   ]
  },
  {
   "cell_type": "markdown",
   "id": "c9c0c5c3",
   "metadata": {},
   "source": [
    "Um pesquisador ficou em determinado cruzameto 18 dias. Nesse cruzamento movimentado em mediu o nível de ruído (em decibéis).<br>MEDIA"
   ]
  },
  {
   "cell_type": "code",
   "execution_count": 1,
   "id": "b1ad84cb",
   "metadata": {},
   "outputs": [],
   "source": [
    "# carregar o dataset\n",
    "# calcular a media\n",
    "# df.campo.mean()"
   ]
  },
  {
   "cell_type": "code",
   "execution_count": 2,
   "id": "2924636f",
   "metadata": {},
   "outputs": [],
   "source": [
    "import pandas as pd "
   ]
  },
  {
   "cell_type": "code",
   "execution_count": 3,
   "id": "8416701f",
   "metadata": {},
   "outputs": [],
   "source": [
    "df = pd.read_csv('datasets/dataset_ruido.csv')"
   ]
  },
  {
   "cell_type": "code",
   "execution_count": 4,
   "id": "9ce04fc7",
   "metadata": {},
   "outputs": [
    {
     "data": {
      "text/plain": [
       "np.float64(108.44444444444444)"
      ]
     },
     "execution_count": 4,
     "metadata": {},
     "output_type": "execute_result"
    }
   ],
   "source": [
    "df['nivel ruido (dB)'].mean()"
   ]
  },
  {
   "cell_type": "code",
   "execution_count": 5,
   "id": "c5a143f7",
   "metadata": {},
   "outputs": [],
   "source": [
    "df = df.rename(columns={'nivel ruido (dB)':'nivel_ruido_db'})"
   ]
  },
  {
   "cell_type": "code",
   "execution_count": 6,
   "id": "54ff8bae",
   "metadata": {},
   "outputs": [
    {
     "data": {
      "text/plain": [
       "np.float64(108.44444444444444)"
      ]
     },
     "execution_count": 6,
     "metadata": {},
     "output_type": "execute_result"
    }
   ],
   "source": [
    "df.nivel_ruido_db.mean()"
   ]
  }
 ],
 "metadata": {
  "kernelspec": {
   "display_name": "venv",
   "language": "python",
   "name": "python3"
  },
  "language_info": {
   "codemirror_mode": {
    "name": "ipython",
    "version": 3
   },
   "file_extension": ".py",
   "mimetype": "text/x-python",
   "name": "python",
   "nbconvert_exporter": "python",
   "pygments_lexer": "ipython3",
   "version": "3.13.7"
  }
 },
 "nbformat": 4,
 "nbformat_minor": 5
}
