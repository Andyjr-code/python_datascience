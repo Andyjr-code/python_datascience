{
 "cells": [
  {
   "cell_type": "markdown",
   "id": "4191da66",
   "metadata": {},
   "source": [
    "# Exercício - Estatíca Descritiva (medida de tendência central)"
   ]
  },
  {
   "cell_type": "markdown",
   "id": "c9c0c5c3",
   "metadata": {},
   "source": [
    "Um pesquisador ficou em determinado cruzameto 18 dias. Nesse cruzamento movimentado em mediu o nível de ruído (em decibéis).<br>MEDIA"
   ]
  },
  {
   "cell_type": "code",
   "execution_count": 1,
   "id": "b1ad84cb",
   "metadata": {},
   "outputs": [],
   "source": [
    "# carregar o dataset\n",
    "# calcular a media\n",
    "# df.campo.mean()"
   ]
  },
  {
   "cell_type": "code",
   "execution_count": 1,
   "id": "2924636f",
   "metadata": {},
   "outputs": [],
   "source": [
    "import pandas as pd "
   ]
  },
  {
   "cell_type": "code",
   "execution_count": 9,
   "id": "8416701f",
   "metadata": {},
   "outputs": [
    {
     "data": {
      "text/plain": [
       "numero do dia         9.500000\n",
       "nivel ruido (dB)    108.444444\n",
       "dtype: float64"
      ]
     },
     "execution_count": 9,
     "metadata": {},
     "output_type": "execute_result"
    }
   ],
   "source": [
    "df = pd.read_csv('datasets/dataset_ruido.csv')\n",
    "df.mean()"
   ]
  },
  {
   "cell_type": "code",
   "execution_count": 10,
   "id": "9ce04fc7",
   "metadata": {},
   "outputs": [
    {
     "data": {
      "text/plain": [
       "np.float64(108.44444444444444)"
      ]
     },
     "execution_count": 10,
     "metadata": {},
     "output_type": "execute_result"
    }
   ],
   "source": [
    "df['nivel ruido (dB)'].mean()"
   ]
  },
  {
   "cell_type": "code",
   "execution_count": 11,
   "id": "c5a143f7",
   "metadata": {},
   "outputs": [],
   "source": [
    "df = df.rename(columns={'nivel ruido (dB)':'nivel_ruido_db'})\n"
   ]
  },
  {
   "cell_type": "code",
   "execution_count": 12,
   "id": "18396784",
   "metadata": {},
   "outputs": [
    {
     "data": {
      "text/plain": [
       "np.float64(108.44444444444444)"
      ]
     },
     "execution_count": 12,
     "metadata": {},
     "output_type": "execute_result"
    }
   ],
   "source": [
    "df.nivel_ruido_db.mean()"
   ]
  },
  {
   "cell_type": "markdown",
   "id": "4ef26977",
   "metadata": {},
   "source": [
    "# Mediana"
   ]
  },
  {
   "cell_type": "markdown",
   "id": "cd0f510a",
   "metadata": {},
   "source": [
    "- Técnico\n",
    "- Explicar para um público leigo\n",
    "- Primeiro os dados tem que estar em ordem crescente"
   ]
  },
  {
   "cell_type": "code",
   "execution_count": 13,
   "id": "496dd857",
   "metadata": {},
   "outputs": [
    {
     "name": "stdout",
     "output_type": "stream",
     "text": [
      "<class 'pandas.core.frame.DataFrame'>\n",
      "RangeIndex: 18 entries, 0 to 17\n",
      "Data columns (total 2 columns):\n",
      " #   Column          Non-Null Count  Dtype\n",
      "---  ------          --------------  -----\n",
      " 0   numero do dia   18 non-null     int64\n",
      " 1   nivel_ruido_db  18 non-null     int64\n",
      "dtypes: int64(2)\n",
      "memory usage: 420.0 bytes\n"
     ]
    }
   ],
   "source": [
    "df.info()"
   ]
  },
  {
   "cell_type": "markdown",
   "id": "5274c6d5",
   "metadata": {},
   "source": [
    "- par (n=18)\n",
    "- a mediana é calculada fazendo-se uma média dos valores que se encontram:\n",
    "- n/2 = 9° elemento e (n+2/)2 = 10° elemento"
   ]
  },
  {
   "cell_type": "code",
   "execution_count": 17,
   "id": "7826bbf1",
   "metadata": {},
   "outputs": [],
   "source": [
    "df_ordenado = df.sort_values(by='nivel_ruido_db')"
   ]
  },
  {
   "cell_type": "code",
   "execution_count": 20,
   "id": "2d139424",
   "metadata": {},
   "outputs": [
    {
     "data": {
      "text/html": [
       "<div>\n",
       "<style scoped>\n",
       "    .dataframe tbody tr th:only-of-type {\n",
       "        vertical-align: middle;\n",
       "    }\n",
       "\n",
       "    .dataframe tbody tr th {\n",
       "        vertical-align: top;\n",
       "    }\n",
       "\n",
       "    .dataframe thead th {\n",
       "        text-align: right;\n",
       "    }\n",
       "</style>\n",
       "<table border=\"1\" class=\"dataframe\">\n",
       "  <thead>\n",
       "    <tr style=\"text-align: right;\">\n",
       "      <th></th>\n",
       "      <th>numero do dia</th>\n",
       "      <th>nivel_ruido_db</th>\n",
       "    </tr>\n",
       "  </thead>\n",
       "  <tbody>\n",
       "    <tr>\n",
       "      <th>0</th>\n",
       "      <td>1</td>\n",
       "      <td>85</td>\n",
       "    </tr>\n",
       "    <tr>\n",
       "      <th>1</th>\n",
       "      <td>2</td>\n",
       "      <td>92</td>\n",
       "    </tr>\n",
       "    <tr>\n",
       "      <th>2</th>\n",
       "      <td>3</td>\n",
       "      <td>95</td>\n",
       "    </tr>\n",
       "    <tr>\n",
       "      <th>3</th>\n",
       "      <td>4</td>\n",
       "      <td>98</td>\n",
       "    </tr>\n",
       "    <tr>\n",
       "      <th>4</th>\n",
       "      <td>5</td>\n",
       "      <td>99</td>\n",
       "    </tr>\n",
       "    <tr>\n",
       "      <th>5</th>\n",
       "      <td>6</td>\n",
       "      <td>101</td>\n",
       "    </tr>\n",
       "    <tr>\n",
       "      <th>6</th>\n",
       "      <td>7</td>\n",
       "      <td>103</td>\n",
       "    </tr>\n",
       "    <tr>\n",
       "      <th>7</th>\n",
       "      <td>8</td>\n",
       "      <td>105</td>\n",
       "    </tr>\n",
       "    <tr>\n",
       "      <th>8</th>\n",
       "      <td>9</td>\n",
       "      <td>107</td>\n",
       "    </tr>\n",
       "    <tr>\n",
       "      <th>9</th>\n",
       "      <td>10</td>\n",
       "      <td>110</td>\n",
       "    </tr>\n",
       "    <tr>\n",
       "      <th>10</th>\n",
       "      <td>11</td>\n",
       "      <td>112</td>\n",
       "    </tr>\n",
       "    <tr>\n",
       "      <th>11</th>\n",
       "      <td>12</td>\n",
       "      <td>114</td>\n",
       "    </tr>\n",
       "    <tr>\n",
       "      <th>12</th>\n",
       "      <td>13</td>\n",
       "      <td>117</td>\n",
       "    </tr>\n",
       "    <tr>\n",
       "      <th>13</th>\n",
       "      <td>14</td>\n",
       "      <td>120</td>\n",
       "    </tr>\n",
       "    <tr>\n",
       "      <th>14</th>\n",
       "      <td>15</td>\n",
       "      <td>120</td>\n",
       "    </tr>\n",
       "    <tr>\n",
       "      <th>15</th>\n",
       "      <td>16</td>\n",
       "      <td>122</td>\n",
       "    </tr>\n",
       "    <tr>\n",
       "      <th>16</th>\n",
       "      <td>17</td>\n",
       "      <td>125</td>\n",
       "    </tr>\n",
       "    <tr>\n",
       "      <th>17</th>\n",
       "      <td>18</td>\n",
       "      <td>127</td>\n",
       "    </tr>\n",
       "  </tbody>\n",
       "</table>\n",
       "</div>"
      ],
      "text/plain": [
       "    numero do dia  nivel_ruido_db\n",
       "0               1              85\n",
       "1               2              92\n",
       "2               3              95\n",
       "3               4              98\n",
       "4               5              99\n",
       "5               6             101\n",
       "6               7             103\n",
       "7               8             105\n",
       "8               9             107\n",
       "9              10             110\n",
       "10             11             112\n",
       "11             12             114\n",
       "12             13             117\n",
       "13             14             120\n",
       "14             15             120\n",
       "15             16             122\n",
       "16             17             125\n",
       "17             18             127"
      ]
     },
     "execution_count": 20,
     "metadata": {},
     "output_type": "execute_result"
    }
   ],
   "source": [
    "df_ordenado"
   ]
  },
  {
   "cell_type": "code",
   "execution_count": 18,
   "id": "8e4bb621",
   "metadata": {},
   "outputs": [
    {
     "data": {
      "text/plain": [
       "np.float64(108.5)"
      ]
     },
     "execution_count": 18,
     "metadata": {},
     "output_type": "execute_result"
    }
   ],
   "source": [
    "df.nivel_ruido_db.median()"
   ]
  },
  {
   "cell_type": "markdown",
   "id": "1f5606e2",
   "metadata": {},
   "source": [
    "Por ser amostra par, calcula-se a media dos elementos nas posi"
   ]
  },
  {
   "cell_type": "markdown",
   "id": "c0b00fbe",
   "metadata": {},
   "source": [
    "Interpretação: \"em metade dos dias analisados o nível de ruído foi inferior ou igual a 108,5 decibeis\""
   ]
  },
  {
   "cell_type": "markdown",
   "id": "1d6fa0ab",
   "metadata": {},
   "source": [
    "# Moda"
   ]
  },
  {
   "cell_type": "code",
   "execution_count": 22,
   "id": "405c397b",
   "metadata": {},
   "outputs": [
    {
     "data": {
      "text/plain": [
       "0    120\n",
       "Name: nivel_ruido_db, dtype: int64"
      ]
     },
     "execution_count": 22,
     "metadata": {},
     "output_type": "execute_result"
    }
   ],
   "source": [
    "df.nivel_ruido_db.mode()"
   ]
  },
  {
   "cell_type": "markdown",
   "id": "c20f4c28",
   "metadata": {},
   "source": [
    "- Na frequência\n",
    "- A moda vai nos auxiliar nos desafios aonde precisaremos calcular a frequência"
   ]
  },
  {
   "cell_type": "code",
   "execution_count": 24,
   "id": "b5d33f89",
   "metadata": {},
   "outputs": [
    {
     "data": {
      "text/html": [
       "<div>\n",
       "<style scoped>\n",
       "    .dataframe tbody tr th:only-of-type {\n",
       "        vertical-align: middle;\n",
       "    }\n",
       "\n",
       "    .dataframe tbody tr th {\n",
       "        vertical-align: top;\n",
       "    }\n",
       "\n",
       "    .dataframe thead th {\n",
       "        text-align: right;\n",
       "    }\n",
       "</style>\n",
       "<table border=\"1\" class=\"dataframe\">\n",
       "  <thead>\n",
       "    <tr style=\"text-align: right;\">\n",
       "      <th></th>\n",
       "      <th>numero do dia</th>\n",
       "      <th>nivel_ruido_db</th>\n",
       "    </tr>\n",
       "  </thead>\n",
       "  <tbody>\n",
       "    <tr>\n",
       "      <th>0</th>\n",
       "      <td>1</td>\n",
       "      <td>85</td>\n",
       "    </tr>\n",
       "    <tr>\n",
       "      <th>1</th>\n",
       "      <td>2</td>\n",
       "      <td>92</td>\n",
       "    </tr>\n",
       "  </tbody>\n",
       "</table>\n",
       "</div>"
      ],
      "text/plain": [
       "   numero do dia  nivel_ruido_db\n",
       "0              1              85\n",
       "1              2              92"
      ]
     },
     "execution_count": 24,
     "metadata": {},
     "output_type": "execute_result"
    }
   ],
   "source": [
    "df.head(2)"
   ]
  },
  {
   "cell_type": "code",
   "execution_count": 25,
   "id": "ebce4359",
   "metadata": {},
   "outputs": [
    {
     "data": {
      "text/html": [
       "<div>\n",
       "<style scoped>\n",
       "    .dataframe tbody tr th:only-of-type {\n",
       "        vertical-align: middle;\n",
       "    }\n",
       "\n",
       "    .dataframe tbody tr th {\n",
       "        vertical-align: top;\n",
       "    }\n",
       "\n",
       "    .dataframe thead th {\n",
       "        text-align: right;\n",
       "    }\n",
       "</style>\n",
       "<table border=\"1\" class=\"dataframe\">\n",
       "  <thead>\n",
       "    <tr style=\"text-align: right;\">\n",
       "      <th></th>\n",
       "      <th>numero do dia</th>\n",
       "      <th>nivel_ruido_db</th>\n",
       "    </tr>\n",
       "  </thead>\n",
       "  <tbody>\n",
       "    <tr>\n",
       "      <th>count</th>\n",
       "      <td>18.000000</td>\n",
       "      <td>18.000000</td>\n",
       "    </tr>\n",
       "    <tr>\n",
       "      <th>mean</th>\n",
       "      <td>9.500000</td>\n",
       "      <td>108.444444</td>\n",
       "    </tr>\n",
       "    <tr>\n",
       "      <th>std</th>\n",
       "      <td>5.338539</td>\n",
       "      <td>12.093860</td>\n",
       "    </tr>\n",
       "    <tr>\n",
       "      <th>min</th>\n",
       "      <td>1.000000</td>\n",
       "      <td>85.000000</td>\n",
       "    </tr>\n",
       "    <tr>\n",
       "      <th>25%</th>\n",
       "      <td>5.250000</td>\n",
       "      <td>99.500000</td>\n",
       "    </tr>\n",
       "    <tr>\n",
       "      <th>50%</th>\n",
       "      <td>9.500000</td>\n",
       "      <td>108.500000</td>\n",
       "    </tr>\n",
       "    <tr>\n",
       "      <th>75%</th>\n",
       "      <td>13.750000</td>\n",
       "      <td>119.250000</td>\n",
       "    </tr>\n",
       "    <tr>\n",
       "      <th>max</th>\n",
       "      <td>18.000000</td>\n",
       "      <td>127.000000</td>\n",
       "    </tr>\n",
       "  </tbody>\n",
       "</table>\n",
       "</div>"
      ],
      "text/plain": [
       "       numero do dia  nivel_ruido_db\n",
       "count      18.000000       18.000000\n",
       "mean        9.500000      108.444444\n",
       "std         5.338539       12.093860\n",
       "min         1.000000       85.000000\n",
       "25%         5.250000       99.500000\n",
       "50%         9.500000      108.500000\n",
       "75%        13.750000      119.250000\n",
       "max        18.000000      127.000000"
      ]
     },
     "execution_count": 25,
     "metadata": {},
     "output_type": "execute_result"
    }
   ],
   "source": [
    "df.describe()  "
   ]
  },
  {
   "cell_type": "code",
   "execution_count": 29,
   "id": "1953979d",
   "metadata": {},
   "outputs": [
    {
     "data": {
      "text/plain": [
       "0      85\n",
       "1      92\n",
       "2      95\n",
       "3      98\n",
       "4      99\n",
       "5     101\n",
       "6     103\n",
       "7     105\n",
       "8     107\n",
       "9     110\n",
       "10    112\n",
       "11    114\n",
       "12    117\n",
       "13    120\n",
       "14    120\n",
       "15    122\n",
       "16    125\n",
       "17    127\n",
       "Name: nivel_ruido_db, dtype: int64"
      ]
     },
     "execution_count": 29,
     "metadata": {},
     "output_type": "execute_result"
    }
   ],
   "source": [
    "df.nivel_ruido_db"
   ]
  },
  {
   "cell_type": "code",
   "execution_count": 30,
   "id": "519d733b",
   "metadata": {},
   "outputs": [
    {
     "data": {
      "text/plain": [
       "np.float64(108.44444444444444)"
      ]
     },
     "execution_count": 30,
     "metadata": {},
     "output_type": "execute_result"
    }
   ],
   "source": [
    "df['nivel_ruido_db'].mean()"
   ]
  },
  {
   "cell_type": "code",
   "execution_count": 32,
   "id": "0777ce21",
   "metadata": {},
   "outputs": [
    {
     "data": {
      "text/plain": [
       "8     107\n",
       "9     110\n",
       "10    112\n",
       "11    114\n",
       "12    117\n",
       "13    120\n",
       "Name: nivel_ruido_db, dtype: int64"
      ]
     },
     "execution_count": 32,
     "metadata": {},
     "output_type": "execute_result"
    }
   ],
   "source": [
    "df['nivel_ruido_db'][8:14]"
   ]
  },
  {
   "cell_type": "code",
   "execution_count": 33,
   "id": "f931dec5",
   "metadata": {},
   "outputs": [
    {
     "data": {
      "text/plain": [
       "8     107\n",
       "9     110\n",
       "10    112\n",
       "11    114\n",
       "12    117\n",
       "13    120\n",
       "Name: nivel_ruido_db, dtype: int64"
      ]
     },
     "execution_count": 33,
     "metadata": {},
     "output_type": "execute_result"
    }
   ],
   "source": [
    "df.nivel_ruido_db[8:14]"
   ]
  },
  {
   "cell_type": "code",
   "execution_count": 34,
   "id": "34dfda55",
   "metadata": {},
   "outputs": [
    {
     "data": {
      "text/plain": [
       "Index(['numero do dia', 'nivel_ruido_db'], dtype='object')"
      ]
     },
     "execution_count": 34,
     "metadata": {},
     "output_type": "execute_result"
    }
   ],
   "source": [
    "df.columns"
   ]
  },
  {
   "cell_type": "markdown",
   "id": "3510d45b",
   "metadata": {},
   "source": [
    "# Quero o nivel de Ruido 10°"
   ]
  },
  {
   "cell_type": "code",
   "execution_count": 37,
   "id": "f8f825c2",
   "metadata": {},
   "outputs": [
    {
     "data": {
      "text/html": [
       "<div>\n",
       "<style scoped>\n",
       "    .dataframe tbody tr th:only-of-type {\n",
       "        vertical-align: middle;\n",
       "    }\n",
       "\n",
       "    .dataframe tbody tr th {\n",
       "        vertical-align: top;\n",
       "    }\n",
       "\n",
       "    .dataframe thead th {\n",
       "        text-align: right;\n",
       "    }\n",
       "</style>\n",
       "<table border=\"1\" class=\"dataframe\">\n",
       "  <thead>\n",
       "    <tr style=\"text-align: right;\">\n",
       "      <th></th>\n",
       "      <th>numero do dia</th>\n",
       "      <th>nivel_ruido_db</th>\n",
       "    </tr>\n",
       "  </thead>\n",
       "  <tbody>\n",
       "    <tr>\n",
       "      <th>0</th>\n",
       "      <td>1</td>\n",
       "      <td>85</td>\n",
       "    </tr>\n",
       "    <tr>\n",
       "      <th>1</th>\n",
       "      <td>2</td>\n",
       "      <td>92</td>\n",
       "    </tr>\n",
       "    <tr>\n",
       "      <th>2</th>\n",
       "      <td>3</td>\n",
       "      <td>95</td>\n",
       "    </tr>\n",
       "    <tr>\n",
       "      <th>3</th>\n",
       "      <td>4</td>\n",
       "      <td>98</td>\n",
       "    </tr>\n",
       "    <tr>\n",
       "      <th>4</th>\n",
       "      <td>5</td>\n",
       "      <td>99</td>\n",
       "    </tr>\n",
       "    <tr>\n",
       "      <th>5</th>\n",
       "      <td>6</td>\n",
       "      <td>101</td>\n",
       "    </tr>\n",
       "    <tr>\n",
       "      <th>6</th>\n",
       "      <td>7</td>\n",
       "      <td>103</td>\n",
       "    </tr>\n",
       "    <tr>\n",
       "      <th>7</th>\n",
       "      <td>8</td>\n",
       "      <td>105</td>\n",
       "    </tr>\n",
       "    <tr>\n",
       "      <th>8</th>\n",
       "      <td>9</td>\n",
       "      <td>107</td>\n",
       "    </tr>\n",
       "    <tr>\n",
       "      <th>9</th>\n",
       "      <td>10</td>\n",
       "      <td>110</td>\n",
       "    </tr>\n",
       "    <tr>\n",
       "      <th>10</th>\n",
       "      <td>11</td>\n",
       "      <td>112</td>\n",
       "    </tr>\n",
       "    <tr>\n",
       "      <th>11</th>\n",
       "      <td>12</td>\n",
       "      <td>114</td>\n",
       "    </tr>\n",
       "    <tr>\n",
       "      <th>12</th>\n",
       "      <td>13</td>\n",
       "      <td>117</td>\n",
       "    </tr>\n",
       "    <tr>\n",
       "      <th>13</th>\n",
       "      <td>14</td>\n",
       "      <td>120</td>\n",
       "    </tr>\n",
       "    <tr>\n",
       "      <th>14</th>\n",
       "      <td>15</td>\n",
       "      <td>120</td>\n",
       "    </tr>\n",
       "    <tr>\n",
       "      <th>15</th>\n",
       "      <td>16</td>\n",
       "      <td>122</td>\n",
       "    </tr>\n",
       "    <tr>\n",
       "      <th>16</th>\n",
       "      <td>17</td>\n",
       "      <td>125</td>\n",
       "    </tr>\n",
       "    <tr>\n",
       "      <th>17</th>\n",
       "      <td>18</td>\n",
       "      <td>127</td>\n",
       "    </tr>\n",
       "  </tbody>\n",
       "</table>\n",
       "</div>"
      ],
      "text/plain": [
       "    numero do dia  nivel_ruido_db\n",
       "0               1              85\n",
       "1               2              92\n",
       "2               3              95\n",
       "3               4              98\n",
       "4               5              99\n",
       "5               6             101\n",
       "6               7             103\n",
       "7               8             105\n",
       "8               9             107\n",
       "9              10             110\n",
       "10             11             112\n",
       "11             12             114\n",
       "12             13             117\n",
       "13             14             120\n",
       "14             15             120\n",
       "15             16             122\n",
       "16             17             125\n",
       "17             18             127"
      ]
     },
     "execution_count": 37,
     "metadata": {},
     "output_type": "execute_result"
    }
   ],
   "source": [
    "df"
   ]
  },
  {
   "cell_type": "code",
   "execution_count": 35,
   "id": "e8ca1bde",
   "metadata": {},
   "outputs": [
    {
     "data": {
      "text/plain": [
       "numero do dia      11\n",
       "nivel_ruido_db    112\n",
       "Name: 10, dtype: int64"
      ]
     },
     "execution_count": 35,
     "metadata": {},
     "output_type": "execute_result"
    }
   ],
   "source": [
    "df.loc[10]"
   ]
  },
  {
   "cell_type": "code",
   "execution_count": 38,
   "id": "0ad0e023",
   "metadata": {},
   "outputs": [
    {
     "data": {
      "text/html": [
       "<div>\n",
       "<style scoped>\n",
       "    .dataframe tbody tr th:only-of-type {\n",
       "        vertical-align: middle;\n",
       "    }\n",
       "\n",
       "    .dataframe tbody tr th {\n",
       "        vertical-align: top;\n",
       "    }\n",
       "\n",
       "    .dataframe thead th {\n",
       "        text-align: right;\n",
       "    }\n",
       "</style>\n",
       "<table border=\"1\" class=\"dataframe\">\n",
       "  <thead>\n",
       "    <tr style=\"text-align: right;\">\n",
       "      <th></th>\n",
       "      <th>numero do dia</th>\n",
       "      <th>nivel_ruido_db</th>\n",
       "    </tr>\n",
       "  </thead>\n",
       "  <tbody>\n",
       "    <tr>\n",
       "      <th>12</th>\n",
       "      <td>13</td>\n",
       "      <td>117</td>\n",
       "    </tr>\n",
       "    <tr>\n",
       "      <th>13</th>\n",
       "      <td>14</td>\n",
       "      <td>120</td>\n",
       "    </tr>\n",
       "    <tr>\n",
       "      <th>14</th>\n",
       "      <td>15</td>\n",
       "      <td>120</td>\n",
       "    </tr>\n",
       "    <tr>\n",
       "      <th>15</th>\n",
       "      <td>16</td>\n",
       "      <td>122</td>\n",
       "    </tr>\n",
       "    <tr>\n",
       "      <th>16</th>\n",
       "      <td>17</td>\n",
       "      <td>125</td>\n",
       "    </tr>\n",
       "    <tr>\n",
       "      <th>17</th>\n",
       "      <td>18</td>\n",
       "      <td>127</td>\n",
       "    </tr>\n",
       "  </tbody>\n",
       "</table>\n",
       "</div>"
      ],
      "text/plain": [
       "    numero do dia  nivel_ruido_db\n",
       "12             13             117\n",
       "13             14             120\n",
       "14             15             120\n",
       "15             16             122\n",
       "16             17             125\n",
       "17             18             127"
      ]
     },
     "execution_count": 38,
     "metadata": {},
     "output_type": "execute_result"
    }
   ],
   "source": [
    "df.loc[df.nivel_ruido_db >= 117]"
   ]
  }
 ],
 "metadata": {
  "kernelspec": {
   "display_name": "venv",
   "language": "python",
   "name": "python3"
  },
  "language_info": {
   "codemirror_mode": {
    "name": "ipython",
    "version": 3
   },
   "file_extension": ".py",
   "mimetype": "text/x-python",
   "name": "python",
   "nbconvert_exporter": "python",
   "pygments_lexer": "ipython3",
   "version": "3.13.7"
  }
 },
 "nbformat": 4,
 "nbformat_minor": 5
}
